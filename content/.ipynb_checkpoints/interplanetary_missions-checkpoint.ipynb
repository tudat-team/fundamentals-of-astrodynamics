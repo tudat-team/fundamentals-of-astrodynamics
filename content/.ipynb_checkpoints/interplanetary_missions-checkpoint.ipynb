{
 "cells": [
  {
   "cell_type": "markdown",
   "metadata": {},
   "source": [
    "# Interplanetary missions"
   ]
  },
  {
   "cell_type": "markdown",
   "metadata": {},
   "source": [
    "## Lambert's Problem"
   ]
  },
  {
   "cell_type": "markdown",
   "metadata": {},
   "source": [
    "To determine the time-of-flight between two points in an elliptical orbit, we could compute the eccentric anomalies at both points and use Kepler’s equation (6.36) twice. In this Section, a more convenient method will be developed. It is based on Lambert’s theorem or Lambert’s equation, which was discovered by J.H. Lambert (1728-1777) in 1761 using geometric arguments and was subsequently proved analytically by J.L. Lagrange (1736-1813) in 1778. The theorem, which is in essence a reformulation of Kepler’s equation, states that the time needed to transverse an elliptical arc only depends on the semi-major axis of the ellipse, the sum of the distances from the attraction center to the initial and final points of the arc, and the length of the chord joining the initial and final points. The theorem plays a crucial role in many applications of astro- dynamics, ranging from re-entry and rendez-vous missions to interplanetary flights. [Wakker p.174]"
   ]
  },
  {
   "cell_type": "markdown",
   "metadata": {},
   "source": [
    "![title](graphics/Orbital-geometry-for-Lambert-problem.png)"
   ]
  },
  {
   "cell_type": "markdown",
   "metadata": {},
   "source": [
    "**Lambert's Problem**: Given $P_1$, $P_2$ and time of flight (often denoted $tof$), determine $V_1$ and $V_2$"
   ]
  },
  {
   "cell_type": "markdown",
   "metadata": {},
   "source": [
    "**TUTORIAL DESIGN NOTE: This allows student to apply knowledge from \"1.1 Acquiring Celestial Information\"**"
   ]
  },
  {
   "cell_type": "code",
   "execution_count": 5,
   "metadata": {},
   "outputs": [],
   "source": [
    "# required imports\n",
    "from tudatpy.kernel.astro import two_body_dynamics\n",
    "# ... #                                 # from tudatpy.kernel.interface import spice_interface\n",
    "                                        \n",
    "# ... #                                 # spice_interface.load_standard_kernels()\n",
    "\n",
    "INTIIAL_EPOCH = ..                      # spice_interface.convert_\n",
    " \n",
    "FINAL_EPOCH = ..                        # spice_interface.convert_\n",
    "\n",
    "SUN_GM = ...                            # spice_interface.get_body_gravitational_parameter(\"Sun\")\n",
    "\n",
    "EARTH_POS_INITIAL_EPOCH = ..            # spice_interface.get_cartesian_state_at_epoch(*args, INTIIAL_EPOCH)\n",
    "\n",
    "MARS_POS_FINAL_EPOCH = ..               # spice_interface.get_cartesian_state_at_epoch(*args, FINAL_EPOCH)"
   ]
  },
  {
   "cell_type": "code",
   "execution_count": null,
   "metadata": {},
   "outputs": [],
   "source": [
    "# instantiate lambert targeter class using Dario Izzo's algorithm.\n",
    "lambert_targeter = two_body_dynamics.LambertTargeterIzzo(\n",
    "    departure_position=EARTH_POS_INITIAL_EPOCH,\n",
    "    arrival_position=MARS_POS_FINAL_EPOCH,\n",
    "    time_of_flight=FINAL_EPOCH - INTIIAL_EPOCH,\n",
    "    gravitational_parameter=SUN_GM\n",
    "    # is_retrograde(default=false)\n",
    "    # tolerance(default=1e-9)\n",
    "    # max_iter(default=50) -> (max iterations attempting to achieve tolerance)\n",
    ")\n",
    "\n",
    "# calculate the initial and final velocity vectors\n",
    "v1_heliocentric, v2_heliocentric = lambert_targeter.get_velocity_vectors()"
   ]
  },
  {
   "cell_type": "markdown",
   "metadata": {},
   "source": [
    "**TUTORIAL DESIGN NOTE: This allows student to apply understanding of $V_\\infty$, $V_{planet}$, $V_{planetocentric}$, $V_{heliocentric}$**"
   ]
  },
  {
   "cell_type": "code",
   "execution_count": null,
   "metadata": {},
   "outputs": [],
   "source": [
    "EARTH_VEL_INITIAL_EPOCH = ..             # spice_interface.get_cartesian_state_at_epoch(*args)[3:]\n",
    "\n",
    "v_inf_departure =                        # v_earth_initial_epoch - v1_heliocentric"
   ]
  },
  {
   "cell_type": "markdown",
   "metadata": {},
   "source": [
    "## Departure and Capture $\\Delta{}V$"
   ]
  },
  {
   "cell_type": "markdown",
   "metadata": {},
   "source": [
    "**TUTORIAL DESIGN NOTE: Students can now use the $V_{\\infty_{departure}}$, Earth parking orbit altitude ($h$) to determin $\\Delta{V}_{departure}$**"
   ]
  },
  {
   "cell_type": "code",
   "execution_count": 9,
   "metadata": {},
   "outputs": [],
   "source": [
    "# parking orbit altitude around Earth\n",
    "h_park = 100 * 10 ** 3          # [m]\n",
    "\n",
    "e_park = 0.0                    # [-]\n",
    "\n",
    "EARTH_R = ..                    # [m]\n",
    "\n",
    "# calculate the required ΔV impulse for departure\n",
    "dv_departure = two_body_dynamics.compute_escape_or_capture_delta_v(\n",
    "    gravitational_param= EARTH_GM,\n",
    "    semi_major_axis= EARTH_R + 100E3,  # 100 km LEO\n",
    "    eccentricity= e_park\n",
    "    excess_velocity=V_inf_departure)"
   ]
  },
  {
   "cell_type": "code",
   "execution_count": null,
   "metadata": {},
   "outputs": [],
   "source": []
  },
  {
   "cell_type": "markdown",
   "metadata": {},
   "source": []
  },
  {
   "cell_type": "code",
   "execution_count": null,
   "metadata": {},
   "outputs": [],
   "source": []
  }
 ],
 "metadata": {
  "kernelspec": {
   "display_name": "tudat-env",
   "language": "python",
   "name": "tudat-env"
  },
  "language_info": {
   "codemirror_mode": {
    "name": "ipython",
    "version": 3
   },
   "file_extension": ".py",
   "mimetype": "text/x-python",
   "name": "python",
   "nbconvert_exporter": "python",
   "pygments_lexer": "ipython3",
   "version": "3.7.6"
  }
 },
 "nbformat": 4,
 "nbformat_minor": 4
}
