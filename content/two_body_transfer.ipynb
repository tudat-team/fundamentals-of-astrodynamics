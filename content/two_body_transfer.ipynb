{
 "cells": [
  {
   "cell_type": "markdown",
   "metadata": {
    "pycharm": {
     "name": "#%% md\n"
    }
   },
   "source": [
    "## Lambert's Problem"
   ]
  },
  {
   "cell_type": "markdown",
   "source": [
    "To determine the time-of-flight between two points in an elliptical orbit, we could compute the eccentric anomalies at both points and use Kepler’s equation (6.36) twice. In this Section, a more convenient method will be developed. It is based on Lambert’s theorem or Lambert’s equation, which was discovered by J.H. Lambert (1728-1777) in 1761 using geometric arguments and was subsequently proved analytically by J.L. Lagrange (1736-1813) in 1778. The theorem, which is in essence a reformulation of Kepler’s equation, states that the time needed to transverse an elliptical arc only depends on the semi-major axis of the ellipse, the sum of the distances from the attraction center to the initial and final points of the arc, and the length of the chord joining the initial and final points. The theorem plays a crucial role in many applications of astro- dynamics, ranging from re-entry and rendez-vous missions to interplanetary flights. [Wakker p.174]"
   ],
   "metadata": {
    "collapsed": false
   }
  },
  {
   "cell_type": "markdown",
   "source": [
    "To determine the time-of-flight between two points in an elliptical orbit, we could compute the eccentric anomalies at both points and use Kepler’s equation (6.36) twice. In this Section, a more convenient method will be developed. It is based on Lambert’s theorem or Lambert’s equation, which was discovered by J.H. Lambert (1728-1777) in 1761 using geometric arguments and was subsequently proved analytically by J.L. Lagrange (1736-1813) in 1778. The theorem, which is in essence a reformulation of Kepler’s equation, states that the time needed to transverse an elliptical arc only depends on the semi-major axis of the ellipse, the sum of the distances from the attraction center to the initial and final points of the arc, and the length of the chord joining the initial and final points. The theorem plays a crucial role in many applications of astro- dynamics, ranging from re-entry and rendez-vous missions to interplanetary flights. [Wakker p.174]"
   ],
   "metadata": {
    "collapsed": false
   }
  },
  {
   "cell_type": "markdown",
   "source": [
    "![title](graphics/Orbital-geometry-for-Lambert-problem.png)"
   ],
   "metadata": {
    "collapsed": false
   }
  },
  {
   "cell_type": "markdown",
   "source": [
    "**Lambert's Problem**: Given $P_1$, $P_2$ and time of flight (often denoted $tof$), determine $V_1$ and $V_2$"
   ],
   "metadata": {
    "collapsed": false
   }
  },
  {
   "cell_type": "code",
   "execution_count": null,
   "outputs": [],
   "source": [
    "# INTIIAL_EPOCH = ..                      # spice_interface.convert_\n",
    " \n",
    "# FINAL_EPOCH = ..                        # spice_interface.convert_\n",
    "\n",
    "TOF = 1330\n",
    "\n",
    "EARTH_GM = spice_interface.get_body_gravitational_parameter(\"Earth\")\n",
    "\n",
    "SC_POS_INITIAL_EPOCH = elements.keplerian2cartesian(EARTH_GM,10500e3,0.2381,np.deg2rad(0),np.deg2rad(0),\n",
    "                             np.deg2rad(0),np.deg2rad(0))\n",
    "print(SC_POS_INITIAL_EPOCH)\n",
    "\n",
    "SC_POS_FINAL_EPOCH = elements.keplerian2cartesian(EARTH_GM,10500e3,0.2381,np.deg2rad(0),np.deg2rad(0),\n",
    "                             np.deg2rad(0),np.deg2rad(90))\n",
    "print(SC_POS_FINAL_EPOCH)"
   ],
   "metadata": {
    "collapsed": false,
    "pycharm": {
     "name": "#%%\n"
    }
   }
  },
  {
   "cell_type": "code",
   "execution_count": null,
   "outputs": [],
   "source": [
    "# instantiate lambert targeter class using Dario Izzo's algorithm.\n",
    "lambert_targeter = two_body_dynamics.LambertTargeterIzzo(\n",
    "    departure_position=SC_POS_INITIAL_EPOCH,\n",
    "    arrival_position=SC_POS_FINAL_EPOCH,\n",
    "    time_of_flight=TOF,\n",
    "    gravitational_parameter=EARTH_GM\n",
    "    # is_retrograde(default=false)\n",
    "    # tolerance(default=1e-9)\n",
    "    # max_iter(default=50) -> (max iterations attempting to achieve tolerance)\n",
    ")\n",
    "\n",
    "# calculate the initial and final velocity vectors\n",
    "v1, v2 = lambert_targeter.get_velocity_vectors()"
   ],
   "metadata": {
    "collapsed": false,
    "pycharm": {
     "name": "#%%\n"
    }
   }
  },
  {
   "cell_type": "markdown",
   "metadata": {},
   "source": [
    "# instantiate lambert targeter class using Dario Izzo's algorithm.\n",
    "lambert_targeter = two_body_dynamics.LambertTargeterIzzo(\n",
    "    departure_position=SC_POS_INITIAL_EPOCH,\n",
    "    arrival_position=SC_POS_FINAL_EPOCH,\n",
    "    time_of_flight=TOF,\n",
    "    gravitational_parameter=EARTH_GM\n",
    "    # is_retrograde(default=false)\n",
    "    # tolerance(default=1e-9)\n",
    "    # max_iter(default=50) -> (max iterations attempting to achieve tolerance)\n",
    ")\n",
    "\n",
    "# calculate the initial and final velocity vectors\n",
    "v1, v2 = lambert_targeter.get_velocity_vectors()"
   ]
  },
  {
   "cell_type": "markdown",
   "metadata": {},
   "source": [
    "To determine the time-of-flight between two points in an elliptical orbit, we could compute the eccentric anomalies at both points and use Kepler’s equation (6.36) twice. In this Section, a more convenient method will be developed. It is based on Lambert’s theorem or Lambert’s equation, which was discovered by J.H. Lambert (1728-1777) in 1761 using geometric arguments and was subsequently proved analytically by J.L. Lagrange (1736-1813) in 1778. The theorem, which is in essence a reformulation of Kepler’s equation, states that the time needed to transverse an elliptical arc only depends on the semi-major axis of the ellipse, the sum of the distances from the attraction center to the initial and final points of the arc, and the length of the chord joining the initial and final points. The theorem plays a crucial role in many applications of astro- dynamics, ranging from re-entry and rendez-vous missions to interplanetary flights. [Wakker p.174]"
   ]
  },
  {
   "cell_type": "markdown",
   "metadata": {},
   "source": [
    "![title](graphics/Orbital-geometry-for-Lambert-problem.png)"
   ]
  },
  {
   "cell_type": "markdown",
   "metadata": {},
   "source": [
    "**Lambert's Problem**: Given $P_1$, $P_2$ and time of flight (often denoted $tof$), determine $V_1$ and $V_2$"
   ]
  },
  {
   "cell_type": "code",
   "execution_count": null,
   "metadata": {},
   "outputs": [],
   "source": [
    "# INTIIAL_EPOCH = ..                      # spice_interface.convert_\n",
    " \n",
    "# FINAL_EPOCH = ..                        # spice_interface.convert_\n",
    "\n",
    "TOF = 1330\n",
    "\n",
    "EARTH_GM = spice_interface.get_body_gravitational_parameter(\"Earth\")\n",
    "\n",
    "SC_POS_INITIAL_EPOCH = elements.keplerian2cartesian(EARTH_GM,10500e3,0.2381,np.deg2rad(0),np.deg2rad(0),\n",
    "                             np.deg2rad(0),np.deg2rad(0))\n",
    "print(SC_POS_INITIAL_EPOCH)\n",
    "\n",
    "SC_POS_FINAL_EPOCH = elements.keplerian2cartesian(EARTH_GM,10500e3,0.2381,np.deg2rad(0),np.deg2rad(0),\n",
    "                             np.deg2rad(0),np.deg2rad(90))\n",
    "print(SC_POS_FINAL_EPOCH)"
   ]
  },
  {
   "cell_type": "code",
   "execution_count": null,
   "metadata": {},
   "outputs": [],
   "source": [
    "# instantiate lambert targeter class using Dario Izzo's algorithm.\n",
    "lambert_targeter = two_body_dynamics.LambertTargeterIzzo(\n",
    "    departure_position=SC_POS_INITIAL_EPOCH,\n",
    "    arrival_position=SC_POS_FINAL_EPOCH,\n",
    "    time_of_flight=TOF,\n",
    "    gravitational_parameter=EARTH_GM\n",
    "    # is_retrograde(default=false)\n",
    "    # tolerance(default=1e-9)\n",
    "    # max_iter(default=50) -> (max iterations attempting to achieve tolerance)\n",
    ")\n",
    "\n",
    "# calculate the initial and final velocity vectors\n",
    "v1, v2 = lambert_targeter.get_velocity_vectors()"
   ]
  }
 ],
 "metadata": {
  "kernelspec": {
   "display_name": "Python [conda env:.conda-specialTopics] *",
   "language": "python",
   "name": "conda-env-.conda-specialTopics-py"
  },
  "language_info": {
   "codemirror_mode": {
    "name": "ipython",
    "version": 3
   },
   "file_extension": ".py",
   "mimetype": "text/x-python",
   "name": "python",
   "nbconvert_exporter": "python",
   "pygments_lexer": "ipython3",
   "version": "3.7.6"
  }
 },
 "nbformat": 4,
 "nbformat_minor": 4
}