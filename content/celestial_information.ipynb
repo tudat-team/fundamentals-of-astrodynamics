{
 "cells": [
  {
   "cell_type": "markdown",
   "metadata": {},
   "source": [
    "# Aquiring Celestial Data"
   ]
  },
  {
   "cell_type": "markdown",
   "metadata": {},
   "source": [
    "## Spice"
   ]
  },
  {
   "cell_type": "markdown",
   "metadata": {},
   "source": [
    "\n",
    "The Navigation and Ancillary Information Facility (NAIF), acting under the directions of NASA's Planetary Science Division, has built an information system named \"SPICE\" to assist NASA scientists in planning and interpreting scientific observations from space-borne instruments, and to assist NASA engineers involved in modeling, planning and executing activities needed to conduct planetary exploration missions. [[source](https://naif.jpl.nasa.gov/naif/index.html)]"
   ]
  },
  {
   "cell_type": "markdown",
   "metadata": {},
   "source": [
    "`tudat` provides a nonextensive interface to the cspice library. The interface can be accessed with the following import using `tudatpy`:"
   ]
  },
  {
   "cell_type": "code",
   "execution_count": 1,
   "metadata": {},
   "outputs": [
    {
     "ename": "ModuleNotFoundError",
     "evalue": "No module named 'tudatpy'",
     "output_type": "error",
     "traceback": [
      "\u001B[1;31m---------------------------------------------------------------------------\u001B[0m",
      "\u001B[1;31mModuleNotFoundError\u001B[0m                       Traceback (most recent call last)",
      "\u001B[1;32m<ipython-input-1-8e7ed1f7d885>\u001B[0m in \u001B[0;36m<module>\u001B[1;34m\u001B[0m\n\u001B[1;32m----> 1\u001B[1;33m \u001B[1;32mfrom\u001B[0m \u001B[0mtudatpy\u001B[0m\u001B[1;33m.\u001B[0m\u001B[0mkernel\u001B[0m\u001B[1;33m.\u001B[0m\u001B[0minterface\u001B[0m \u001B[1;32mimport\u001B[0m \u001B[0mspice_interface\u001B[0m\u001B[1;33m\u001B[0m\u001B[1;33m\u001B[0m\u001B[0m\n\u001B[0m",
      "\u001B[1;31mModuleNotFoundError\u001B[0m: No module named 'tudatpy'"
     ]
    }
   ],
   "source": [
    "from tudatpy.kernel.interface import spice_interface"
   ]
  },
  {
   "cell_type": "markdown",
   "metadata": {},
   "source": [
    "`tudat` has a list of curated default kernels which can be used for most general applications of space mission analysis and design. The default kernel paths can be retrieved and inspected through the following function:"
   ]
  },
  {
   "cell_type": "code",
   "execution_count": 17,
   "metadata": {},
   "outputs": [
    {
     "data": {
      "text/plain": [
       "['/home/ggarrett/.tudat/resource/spice_kernels/pck00010.tpc',\n",
       " '/home/ggarrett/.tudat/resource/spice_kernels/gm_de431.tpc',\n",
       " '/home/ggarrett/.tudat/resource/spice_kernels/tudat_merged_spk_kernel.bsp',\n",
       " '/home/ggarrett/.tudat/resource/spice_kernels/naif0012.tls']"
      ]
     },
     "execution_count": 17,
     "metadata": {},
     "output_type": "execute_result"
    }
   ],
   "source": [
    "# inspect tudat standard spice kernels\n",
    "spice_interface.get_standard_kernels([])"
   ]
  },
  {
   "cell_type": "markdown",
   "metadata": {},
   "source": [
    "The default kernels can be loaded directly into the `spice` kernel pool as follows:"
   ]
  },
  {
   "cell_type": "code",
   "execution_count": 43,
   "metadata": {},
   "outputs": [],
   "source": [
    "# load tudat standard spice kernels\n",
    "spice_interface.load_standard_kernels()\n",
    "# count of loaded kernels\n",
    "spice_interface.get_total_count_of_kernels_loaded()"
   ]
  },
  {
   "cell_type": "markdown",
   "metadata": {},
   "source": [
    "In case it is required, the loaded kernels into the `spice` kernel are deleted with the function:"
   ]
  },
  {
   "cell_type": "code",
   "execution_count": 47,
   "metadata": {},
   "outputs": [
    {
     "data": {
      "text/plain": [
       "0"
      ]
     },
     "execution_count": 47,
     "metadata": {},
     "output_type": "execute_result"
    }
   ],
   "source": [
    "# delete the loaded kernels\n",
    "# spice_interface.clear_kernels()"
   ]
  },
  {
   "cell_type": "markdown",
   "metadata": {},
   "source": [
    "Another way to carry out the previous steps:"
   ]
  },
  {
   "cell_type": "code",
   "execution_count": 8,
   "metadata": {},
   "outputs": [
    {
     "data": {
      "text/plain": [
       "0"
      ]
     },
     "execution_count": 8,
     "metadata": {},
     "output_type": "execute_result"
    }
   ],
   "source": [
    "import numpy as np\n",
    "import spiceypy as spice\n",
    "import os\n",
    "\n",
    "# required internal imports\n",
    "from tudatpy.kernel import io\n",
    "from tudatpy.kernel.astro import two_body_dynamics\n",
    "\n",
    "# current implementation\n",
    "tudat_spice_kernels = [\n",
    "    \"pck00010.tpc\",\n",
    "    \"gm_de431.tpc\",\n",
    "    \"tudat_merged_spk_kernel.bsp\",\n",
    "    \"naif0012.tls\"]\n",
    "\n",
    "spice_kernel_paths = map(\n",
    "    lambda x: os.path.join(io.get_spice_kernel_path(), x),\n",
    "    tudat_spice_kernels)\n",
    "\n",
    "# future implementation\n",
    "# spice_kernel_paths = spice_interface.get_standard_kernels()\n",
    "\n",
    "# load standard spice kernels\n",
    "# spice.furnsh(spice_kernel_paths)"
   ]
  },
  {
   "cell_type": "code",
   "execution_count": 10,
   "metadata": {},
   "outputs": [
    {
     "data": {
      "text/plain": [
       "False"
      ]
     },
     "execution_count": 10,
     "metadata": {},
     "output_type": "execute_result"
    }
   ],
   "source": [
    "# spice.kclear()\n",
    "\n",
    "# spice.ktotal(\"ALL\")\n",
    "\n",
    "# spice.bodvrd(\"Earth\", \"GM\", 1)\n",
    "\n",
    "spice.failed()"
   ]
  },
  {
   "cell_type": "code",
   "execution_count": 13,
   "metadata": {},
   "outputs": [
    {
     "data": {
      "text/plain": [
       "'/home/ggarrett/miniconda3/envs/tudat-env/lib/libcspice.so.66'"
      ]
     },
     "execution_count": 13,
     "metadata": {},
     "output_type": "execute_result"
    }
   ],
   "source": [
    "# spice.swpool()\n",
    "\n",
    "from ctypes.util import find_library\n",
    "\n",
    "find_library(\"cspice\")"
   ]
  },
  {
   "cell_type": "markdown",
   "metadata": {},
   "source": [
    "# Time conversions"
   ]
  },
  {
   "cell_type": "markdown",
   "metadata": {},
   "source": [
    "## Concepts"
   ]
  },
  {
   "cell_type": "markdown",
   "metadata": {},
   "source": [
    "#### Terrestial Time (TT)\n",
    "\n",
    "Terrestrial Time (TT) is a modern astronomical time standard defined by the International Astronomical Union, primarily for time-measurements of astronomical observations made from the surface of Earth.[1] For example, the Astronomical Almanac uses TT for its tables of positions (ephemerides) of the Sun, Moon and planets as seen from Earth. In this role, TT continues Terrestrial Dynamical Time (TDT or TD),[2] which in turn succeeded ephemeris time (ET). TT shares the original purpose for which ET was designed, to be free of the irregularities in the rotation of Earth."
   ]
  },
  {
   "cell_type": "markdown",
   "metadata": {},
   "source": [
    "#### Barycentric Dynamical Time (TDB)"
   ]
  },
  {
   "cell_type": "markdown",
   "metadata": {},
   "source": [
    "Barycentric Dynamical Time (TDB, from the French Temps Dynamique Barycentrique) is a relativistic coordinate time scale, intended for astronomical use as a time standard to take account of time dilation [1] "
   ]
  },
  {
   "cell_type": "markdown",
   "metadata": {},
   "source": [
    "## Useful Examples"
   ]
  },
  {
   "cell_type": "markdown",
   "metadata": {},
   "source": [
    "Convert from Julian date to Ephemeris time"
   ]
  },
  {
   "cell_type": "code",
   "execution_count": 52,
   "metadata": {},
   "outputs": [
    {
     "data": {
      "text/plain": [
       "-211813488000.0"
      ]
     },
     "execution_count": 52,
     "metadata": {},
     "output_type": "execute_result"
    }
   ],
   "source": [
    "spice_interface.convert_julian_date_to_ephemeris_time(0)"
   ]
  },
  {
   "cell_type": "markdown",
   "metadata": {},
   "source": [
    "Convert from Ephemeris time to Julian date"
   ]
  },
  {
   "cell_type": "code",
   "execution_count": 54,
   "metadata": {},
   "outputs": [
    {
     "data": {
      "text/plain": [
       "2451545.0"
      ]
     },
     "execution_count": 54,
     "metadata": {},
     "output_type": "execute_result"
    }
   ],
   "source": [
    "spice_interface.convert_ephemeris_time_to_julian_date(0)"
   ]
  },
  {
   "cell_type": "markdown",
   "metadata": {},
   "source": [
    "Convert a date written in a string to Ephemeris time"
   ]
  },
  {
   "cell_type": "code",
   "execution_count": null,
   "metadata": {},
   "outputs": [],
   "source": [
    "str_test = \"1988 June 13, 12:29:48 A.M.\"\n",
    "spice_interface.convert_date_string_to_ephemeris_time(str_test)"
   ]
  },
  {
   "cell_type": "markdown",
   "metadata": {},
   "source": [
    "Another way to carry out the previous steps:"
   ]
  },
  {
   "cell_type": "code",
   "execution_count": 14,
   "metadata": {},
   "outputs": [
    {
     "data": {
      "text/plain": [
       "-364562955.81541026"
      ]
     },
     "execution_count": 14,
     "metadata": {},
     "output_type": "execute_result"
    }
   ],
   "source": [
    "import spiceypy as spice\n",
    "from tudatpy.kernel.interface import spice_interface\n",
    "\n",
    "\n",
    "kernels = spice_interface.get_standard_kernels([])\n",
    "spice_interface.load_standard_kernels()\n",
    "\n",
    "spice.furnsh(kernels)\n",
    "# spice.str2et(str_test)\n",
    "\n",
    "str_test = \"1988 June 13, 12:29:48 A.M.\"\n",
    "\n",
    "spice_interface.convert_date_string_to_ephemeris_time(str_test)\n",
    "\n"
   ]
  },
  {
   "cell_type": "markdown",
   "metadata": {},
   "source": [
    "# Body parameters"
   ]
  },
  {
   "cell_type": "markdown",
   "metadata": {},
   "source": [
    "Get the gravitational parameter of a body"
   ]
  },
  {
   "cell_type": "code",
   "execution_count": 14,
   "metadata": {},
   "outputs": [
    {
     "data": {
      "text/plain": [
       "398600435436095.94"
      ]
     },
     "execution_count": 14,
     "metadata": {},
     "output_type": "execute_result"
    }
   ],
   "source": [
    "spice_interface.get_body_gravitational_parameter(\"Venus\")"
   ]
  },
  {
   "cell_type": "markdown",
   "metadata": {},
   "source": [
    "Get the gravitational parameter of a body using spice bodvrd routine"
   ]
  },
  {
   "cell_type": "code",
   "execution_count": 16,
   "metadata": {},
   "outputs": [
    {
     "data": {
      "text/plain": [
       "[398600.4354360959]"
      ]
     },
     "execution_count": 16,
     "metadata": {},
     "output_type": "execute_result"
    }
   ],
   "source": [
    "spice_interface.get_body_properties(\"Saturn\", \"GM\", 1)"
   ]
  },
  {
   "cell_type": "markdown",
   "metadata": {},
   "source": [
    "Get the principal elliptical axes of a body using spice bodvrd routine"
   ]
  },
  {
   "cell_type": "code",
   "execution_count": 21,
   "metadata": {},
   "outputs": [
    {
     "data": {
      "text/plain": [
       "[6378.1366, 6378.1366, 6356.7519]"
      ]
     },
     "execution_count": 21,
     "metadata": {},
     "output_type": "execute_result"
    }
   ],
   "source": [
    "spice_interface.get_body_properties(\"Mars\", \"RADII\", 3)"
   ]
  },
  {
   "cell_type": "markdown",
   "metadata": {},
   "source": [
    "Get the aritmetic average radius of a bodies principal elliptical axes"
   ]
  },
  {
   "cell_type": "code",
   "execution_count": 22,
   "metadata": {},
   "outputs": [
    {
     "data": {
      "text/plain": [
       "6371008.366666666"
      ]
     },
     "execution_count": 22,
     "metadata": {},
     "output_type": "execute_result"
    }
   ],
   "source": [
    "spice_interface.get_average_radius(\"Jupiter\")"
   ]
  },
  {
   "cell_type": "markdown",
   "metadata": {},
   "source": [
    "# State Conversions"
   ]
  },
  {
   "cell_type": "code",
   "execution_count": 18,
   "metadata": {},
   "outputs": [],
   "source": [
    "from tudatpy import elements\n",
    "import numpy as np"
   ]
  },
  {
   "cell_type": "markdown",
   "metadata": {},
   "source": [
    "## Spherical to Cartesian"
   ]
  },
  {
   "cell_type": "code",
   "execution_count": 22,
   "metadata": {},
   "outputs": [
    {
     "name": "stdout",
     "output_type": "stream",
     "text": [
      "Help on function spherical2cartesian in module tudatpy.elements:\n",
      "\n",
      "spherical2cartesian(r, lat, lon, speed, fpa, heading) -> numpy.ndarray\n",
      "    Function to convert spherical state to cartesian.\n",
      "    \n",
      "    Parameters\n",
      "    ----------\n",
      "    r : float\n",
      "        Position vector magnitude (m).\n",
      "    lat : float\n",
      "        Latitude (m).\n",
      "    lon : float\n",
      "        Longitude (m).\n",
      "    speed : float\n",
      "        Magnitude of velocity (m).\n",
      "    fpa : float\n",
      "        Flight path angle (rad).\n",
      "    heading : float\n",
      "        Heading angle (rad).\n",
      "    \n",
      "    Returns\n",
      "    -------\n",
      "    cartesian_state : ndarray\n",
      "        Cartesian state represented as [Rx, Ry, Rz, Vx, Vz, Vy] with distance in (m) and speed in (m/s).\n",
      "\n"
     ]
    }
   ],
   "source": [
    "help(elements.spherical2cartesian)"
   ]
  },
  {
   "cell_type": "code",
   "execution_count": null,
   "metadata": {},
   "outputs": [],
   "source": [
    "rE = spice_interface.get_average_radius(\"Earth\")\n",
    "elements.spherical2cartesian(rE+500e3,np.deg2rad(-110),np.deg2rad(-20),7.2e3,\n",
    "                             np.deg2rad(30),np.deg2rad(150))"
   ]
  },
  {
   "cell_type": "markdown",
   "metadata": {},
   "source": [
    "## Keplerian to Cartesian"
   ]
  },
  {
   "cell_type": "code",
   "execution_count": 23,
   "metadata": {},
   "outputs": [
    {
     "name": "stdout",
     "output_type": "stream",
     "text": [
      "Help on function keplerian2cartesian in module tudatpy.elements:\n",
      "\n",
      "keplerian2cartesian(mu: float = None, sma: float = None, ecc: float = None, inc: float = None, raan: float = None, argp: float = None, theta: float = None, **kwargs) -> numpy.ndarray\n",
      "    Function to convert Keplerian state to cartesian.\n",
      "    \n",
      "    Parameters\n",
      "    ----------\n",
      "    mu : float\n",
      "        Standard gravitational parameter (m^3 / s^2).\n",
      "        (alias = \"gravitational_parameter\")\n",
      "    sma : float\n",
      "        Semi-major axis (m).\n",
      "        (alias = \"semi_major_axis\")\n",
      "    ecc : float\n",
      "        Eccentricity (-).\n",
      "        (alias = \"eccentricity\")\n",
      "    inc : float\n",
      "        Inclination (rad).\n",
      "        (alias = \"inclination\")\n",
      "    raan : float\n",
      "        Right Ascension of the Ascending Node (rad).\n",
      "        (alias = \"right_ascension_of_the_ascending_node\")\n",
      "    argp : float\n",
      "        Argument of Perigee (rad).\n",
      "        (alias = \"argument_of_periapsis\")\n",
      "    theta : float\n",
      "        True anomaly (rad).\n",
      "        (alias = \"true_anomaly\")\n",
      "    \n",
      "    Returns\n",
      "    -------\n",
      "    cartesian_state : ndarray\n",
      "        Cartesian state represented as [Rx, Ry, Rz, Vx, Vz, Vy] with distance in (m) and speed in (m/s).\n",
      "\n"
     ]
    }
   ],
   "source": [
    "help(elements.keplerian2cartesian)"
   ]
  },
  {
   "cell_type": "code",
   "execution_count": null,
   "metadata": {},
   "outputs": [],
   "source": [
    "mu = spice_interface.get_body_gravitational_parameter(\"Earth\")\n",
    "elements.keplerian2cartesian(mu,9505e3,0.079,np.deg2rad(7),np.deg2rad(4),\n",
    "                             np.deg2rad(272.8),np.deg2rad(128.4))"
   ]
  },
  {
   "cell_type": "markdown",
   "metadata": {},
   "source": [
    "## Body states"
   ]
  },
  {
   "cell_type": "code",
   "execution_count": null,
   "metadata": {},
   "outputs": [],
   "source": [
    "spice_interface.get_body_cartesian_position_at_epoch(\"Earth\",\"Sun\",\"ECLIPJ2000\",\"NONE\",0.81541026)"
   ]
  },
  {
   "cell_type": "code",
   "execution_count": null,
   "metadata": {},
   "outputs": [],
   "source": [
    "spice_interface.get_body_cartesian_state_at_epoch(\"Earth\",\"Sun\",\"ECLIPJ2000\",\"NONE\",0.81541026)"
   ]
  },
  {
   "cell_type": "code",
   "execution_count": null,
   "metadata": {},
   "outputs": [],
   "source": [
    "spice_interface.get_cartesian_state_from_tle_at_epoch()"
   ]
  }
 ],
 "metadata": {
  "kernelspec": {
   "display_name": "Python [conda env:.conda-specialTopics] *",
   "language": "python",
   "name": "conda-env-.conda-specialTopics-py"
  },
  "language_info": {
   "codemirror_mode": {
    "name": "ipython",
    "version": 3
   },
   "file_extension": ".py",
   "mimetype": "text/x-python",
   "name": "python",
   "nbconvert_exporter": "python",
   "pygments_lexer": "ipython3",
   "version": "3.7.6"
  }
 },
 "nbformat": 4,
 "nbformat_minor": 4
}