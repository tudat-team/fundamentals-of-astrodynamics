{
 "cells": [
  {
   "cell_type": "markdown",
   "metadata": {},
   "source": [
    "# Fundamentals of Astrodynamics"
   ]
  },
  {
   "cell_type": "markdown",
   "metadata": {},
   "source": [
    "## Aquiring Celestial Data\n",
    "\n",
    "**Learning objectives**\n",
    "\n",
    "- Learn how to use `spice` to obtain information about celestial bodies.\n",
    "- Learn how to use `spice`/`tudatpy` to perform time conversions for state aquisition through ephemeris.\n",
    "- Learn how to use `tudatpy` to create `ephemeris` of known and custom celestial bodies.\n",
    "\n",
    "[Notebook Link](content/celestial_information.ipynb)"
   ]
  },
  {
   "cell_type": "markdown",
   "metadata": {},
   "source": [
    "## Two-body transfers\n",
    "\n",
    "**Learning objectives**\n",
    "\n",
    "- Learn about the effect of mission geometry on the ∆V required for transfers between coplanar and non-coplanar orbits.\n",
    "\n",
    "[Notebook Link](content/two_body_transfer.ipynb)"
   ]
  },
  {
   "cell_type": "markdown",
   "metadata": {},
   "source": [
    "## Interplanetary missions\n",
    "\n",
    "**Learning objectives**\n",
    "\n",
    "- Learn about Lambert’s problem and how a Lambert targeter provides a solution used in initial orbit determination.\n",
    "- Learn about the advantage gained through an unpowered gravity assist.\n",
    "- Learn about the advantage gained through a powered gravity assist. <--- ?\n",
    "- Learn about how gravity assists and Lambert Targeters can be used together in the patched conics method.\n",
    "- Learn the basics of how Numerical Integration is used to iterate upon the patched conics solution (simply the use of initial conditions) and the mangitude of error when jumping from analytical to numerical.\n",
    "\n",
    "\n",
    "[Notebook Link](content/interplanetary_missions.ipynb)"
   ]
  },
  {
   "cell_type": "markdown",
   "metadata": {},
   "source": [
    "## Perturbations\n",
    "\n",
    "**Learning objectives**\n",
    "\n",
    "- Learn about the effect of the point mass assumption for LEO, MEO, HEO and GEO w.r.t. the EGM96 Spherical Harmonic model.\n",
    "- Learn about the effect of solar radiation pressure for Earth orbits.\n",
    "- Learn about the effect of solar radiation pressure for Interplanetary trajectories.\n",
    "- Learn about the effect of aerodynamic drag for LEO, MEO, HEO and GEO.\n",
    "- Learn about the effect of radial, tangential and cross-track thrust for an Earth orbiting satellite.\n",
    " \n",
    "[Notebook Link](content/perturbations.ipynb)"
   ]
  },
  {
   "cell_type": "code",
   "execution_count": null,
   "metadata": {},
   "outputs": [],
   "source": []
  }
 ],
 "metadata": {
  "kernelspec": {
   "display_name": "tudat-env",
   "language": "python",
   "name": "tudat-env"
  },
  "language_info": {
   "codemirror_mode": {
    "name": "ipython",
    "version": 3
   },
   "file_extension": ".py",
   "mimetype": "text/x-python",
   "name": "python",
   "nbconvert_exporter": "python",
   "pygments_lexer": "ipython3",
   "version": "3.7.6"
  },
  "toc-autonumbering": true
 },
 "nbformat": 4,
 "nbformat_minor": 4
}
